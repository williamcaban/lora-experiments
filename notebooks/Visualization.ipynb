{
 "cells": [
  {
   "cell_type": "markdown",
   "id": "cf6a14e1-9ff7-4351-aac5-e4719ee17d9e",
   "metadata": {},
   "source": [
    "---\n",
    "## Visualizations"
   ]
  },
  {
   "cell_type": "code",
   "execution_count": 1,
   "id": "d50e6920-6f24-46ae-be4f-288841e066e6",
   "metadata": {},
   "outputs": [],
   "source": [
    "from matplotlib import pyplot as plt, patches\n",
    "%matplotlib inline"
   ]
  },
  {
   "cell_type": "code",
   "execution_count": 2,
   "id": "596afac4-ee54-4a64-9b8c-6e2be9fddbc6",
   "metadata": {},
   "outputs": [],
   "source": [
    "def plot_swatch(swatch0, swatch1, swatch2, titles=['ground-truth','pre-trained','fine-tuned'], DEBUG=False):\n",
    "    \"\"\"\n",
    "    Plot swatches for color gradients. On size mismatch it will use the size of shortest list.\n",
    "\n",
    "    swatch0:  Python list of hex colors\n",
    "    swatch1:  Python list of hex colors\n",
    "    swatch2:  Python list of hex colors\n",
    "    titles:   List of titles to use for the swatch lists.\n",
    "              If 3rd label is None, it will not plot the 3rd swatch.\n",
    "    DEBUG:    Default to False. When True, additional print statements are executed.    \n",
    "    \"\"\"\n",
    "    swatch0.reverse()\n",
    "    swatch1.reverse()    \n",
    "    swatch2.reverse()\n",
    "\n",
    "    if DEBUG is True:\n",
    "        print(f\"DEBUG: Swatch sizes {len(swatch0)} | {len(swatch1)} | {len(swatch2)}\")\n",
    "\n",
    "    colors = zip(swatch0, swatch1, swatch2)\n",
    "    \n",
    "    fig = plt.figure(figsize=[4.8, 16])\n",
    "    ax = fig.add_axes([0, 0, 1.5, 0.4])\n",
    "    \n",
    "    for j,c in enumerate(colors):\n",
    "        \n",
    "        r0 = patches.Rectangle((0, j), 1, 1, color=c[0])\n",
    "        r1 = patches.Rectangle((1, j), 1, 1, color=c[1])\n",
    "        if titles[2] is not None:\n",
    "            r2 = patches.Rectangle((2, j), 1, 1, color=c[2])\n",
    "    \n",
    "        ax.add_patch(r0)\n",
    "        ax.add_patch(r1)\n",
    "        \n",
    "        if titles[2] is not None:\n",
    "            ax.add_patch(r2)\n",
    "    \n",
    "        rx, ry = r0.get_xy()\n",
    "        cx = rx + r0.get_width()/2.0\n",
    "        cy = ry + r0.get_height()/2.0\n",
    "        ax.annotate(c[0], (cx, cy), color=\"black\", fontsize=10, ha='center', va='center', \n",
    "                    bbox = dict(boxstyle=\"round\", fc=\"0.9\", lw=0))\n",
    "    \n",
    "        rx, ry = r1.get_xy()\n",
    "        cx = rx + r1.get_width()/2.0\n",
    "        cy = ry + r1.get_height()/2.0\n",
    "        ax.annotate(c[1], (cx, cy), color=\"black\", fontsize=10, ha='center', va='center', \n",
    "                    bbox = dict(boxstyle=\"round\", fc=\"0.9\", lw=0))\n",
    "\n",
    "        if titles[2] is not None:\n",
    "            rx, ry = r2.get_xy()\n",
    "            cx = rx + r2.get_width()/2.0\n",
    "            cy = ry + r2.get_height()/2.0\n",
    "            ax.annotate(c[2], (cx, cy), color=\"black\", fontsize=10, ha='center', va='center', \n",
    "                        bbox = dict(boxstyle=\"round\", fc=\"0.9\", lw=0))    \n",
    "        \n",
    "        ax.axhline(j, lw=0.2, color='w')\n",
    "    \n",
    "    ax.text(0.5, j + 1.5, titles[0], ha='center', va='center')\n",
    "    ax.text(1.5, j + 1.5, titles[1], ha='center', va='center')\n",
    "    if titles[2] is not None:\n",
    "        ax.text(2.5, j + 1.5, titles[2], ha='center', va='center')\n",
    "    \n",
    "    ax.set_xlim(0, 3)\n",
    "    ax.set_ylim(0, j + 2)\n",
    "\n",
    "    ax.set_title(f\"Analogous Palette for {swatch0[-1]}\")\n",
    "    ax.axis('off')"
   ]
  },
  {
   "cell_type": "code",
   "execution_count": 3,
   "id": "313b04c0-afe2-4887-b03e-ed006d4d52cf",
   "metadata": {},
   "outputs": [],
   "source": [
    "## Uncomment block for testing\n",
    "## Color swatch visualization test\n",
    "\n",
    "# swatch0 = [ \"#0000d6\", \"#1c00db\", \"#3d00e0\", \"#5300e8\", \"#6002ee\", \"#7e3ff2\", \"#9965f4\", \"#b794f6\", \"#d4bff9\", \"#efe5fd\"]\n",
    "# swatch1 = [ '#000080', '#000050', '#000020', '#003366', '#0055a6', '#0077b6', '#0088c6', '#00aabb', '#00cddc', '#00e8ff']\n",
    "# swatch2 = [ \"#03A9F4\", \"#2196F3\", \"#5BC0DE\", \"#78C2A0\", \"#9E9E9E\", \"#B354D7\", \"#C0C0C0\", \"#E6E6E6\", \"#F4F4F4\", \"#FFEB3B\"]\n",
    "# plot_swatch(swatch0, swatch1, swatch2, ['swatch0','swatch1','swatch2'])\n"
   ]
  },
  {
   "cell_type": "code",
   "execution_count": 4,
   "id": "3541b5db-c390-4730-b4f1-0faab060e08e",
   "metadata": {},
   "outputs": [
    {
     "name": "stdout",
     "output_type": "stream",
     "text": [
      "Help on function plot_swatch in module __main__:\n",
      "\n",
      "plot_swatch(swatch0, swatch1, swatch2, titles=['ground-truth', 'pre-trained', 'fine-tuned'], DEBUG=False)\n",
      "    Plot swatches for color gradients. On size mismatch it will use the size of shortest list.\n",
      "\n",
      "    swatch0:  Python list of hex colors\n",
      "    swatch1:  Python list of hex colors\n",
      "    swatch2:  Python list of hex colors\n",
      "    titles:   List of titles to use for the swatch lists.\n",
      "              If 3rd label is None, it will not plot the 3rd swatch.\n",
      "    DEBUG:    Default to False. When True, additional print statements are executed.\n",
      "\n",
      "None\n"
     ]
    }
   ],
   "source": [
    "print(f\"{help(plot_swatch)}\")"
   ]
  }
 ],
 "metadata": {
  "kernelspec": {
   "display_name": "Python 3 (ipykernel)",
   "language": "python",
   "name": "python3"
  },
  "language_info": {
   "codemirror_mode": {
    "name": "ipython",
    "version": 3
   },
   "file_extension": ".py",
   "mimetype": "text/x-python",
   "name": "python",
   "nbconvert_exporter": "python",
   "pygments_lexer": "ipython3",
   "version": "3.12.3"
  }
 },
 "nbformat": 4,
 "nbformat_minor": 5
}
